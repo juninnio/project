{
 "cells": [
  {
   "cell_type": "code",
   "execution_count": 73,
   "metadata": {},
   "outputs": [],
   "source": [
    "import requests\n",
    "import json\n",
    "import pymongo\n",
    "import spotipy\n",
    "from spotipy.oauth2 import SpotifyOAuth"
   ]
  },
  {
   "cell_type": "code",
   "execution_count": 74,
   "metadata": {},
   "outputs": [],
   "source": [
    "#mac command to start/stop mongodb\n",
    "#brew services start mongodb-community@8.0\n",
    "#brew services stop mongodb-community@8.0"
   ]
  },
  {
   "cell_type": "code",
   "execution_count": 75,
   "metadata": {},
   "outputs": [],
   "source": [
    "#Create MongoDB Database\n",
    "client = pymongo.MongoClient('mongodb://localhost:27017/')\n",
    "db = client['Spotify']"
   ]
  },
  {
   "cell_type": "code",
   "execution_count": 76,
   "metadata": {},
   "outputs": [],
   "source": [
    "#To get private details such as playlist, etc. If not this will be more simple\n",
    "client_id = \"8c3ed71b042646858e003a68626f625b\"\n",
    "client_secret = \"e9d1ffba94d44a4b8da9b95c1e2e4045\"\n",
    "redirect_uri = \"http://localhost:3000\"\n",
    "\n",
    "scope = \"playlist-read-private user-library-read\"\n",
    "\n",
    "sp = spotipy.Spotify(auth_manager=SpotifyOAuth(client_id=client_id, client_secret=client_secret,\n",
    "                                               redirect_uri=redirect_uri, scope=scope))\n"
   ]
  },
  {
   "cell_type": "code",
   "execution_count": 77,
   "metadata": {},
   "outputs": [
    {
     "name": "stdout",
     "output_type": "stream",
     "text": [
      "3ehU2363fTghRKipKg6dYB\n"
     ]
    }
   ],
   "source": [
    "playlists = sp.current_user_playlists()\n",
    "for playlist in playlists['items']:\n",
    "    if playlist['name'] == \"===\":\n",
    "        print(playlist['id'])\n",
    "        p_id = playlist['id']"
   ]
  },
  {
   "cell_type": "code",
   "execution_count": 78,
   "metadata": {},
   "outputs": [],
   "source": [
    "results = sp.playlist_items(p_id)\n",
    "tracks = results['items']"
   ]
  },
  {
   "cell_type": "code",
   "execution_count": null,
   "metadata": {},
   "outputs": [],
   "source": [
    "#DB Design\n",
    "\n",
    "songs = [] #for content-based filtering, collection columns: song_id, album_id, artist0,1,..., release_date, duration_ms\n",
    "song_details = [] #to store song details, collection columns: song_id, song_name, album_id, album_name\n",
    "singers = [] #to store singer details, collection columns: id, name\n",
    "artists = {} #To check for keys\n",
    "\n",
    "for track in tracks:\n",
    "    collection = {} #entries for database collection\n",
    "    c = 0\n",
    "\n",
    "    song_id = track['track']['id']\n",
    "    album_id = track['track']['album']['id']\n",
    "\n",
    "    collection['song_id'] = song_id\n",
    "    collection['album_id'] = album_id\n",
    "\n",
    "    song_details.append({'song_id': song_id, 'song_name' : track['track']['name'], 'album_id': album_id, 'album_name':  track['track']['album']['name']})\n",
    "\n",
    "    genres = set()\n",
    "\n",
    "    for artist in track['track']['album']['artists']:\n",
    "        collection[f'artist{c+1}'] = artist['id']\n",
    "        c += 1\n",
    "        if artist['id'] not in artists.keys():\n",
    "            artists[artist['id']] = artist['name']\n",
    "            singers.append({'id':artist['id'] ,'name':artist['name'] }) #append to collection\n",
    "        \n",
    "        artist_info = sp.artist(artist['id'])\n",
    "        genres.update(set(artist_info['genres']))\n",
    "        \n",
    "    for idx, genre in enumerate(genres):\n",
    "        collection[f'genre{idx+1}'] = genre\n",
    "\n",
    "    collection['release_date'] = track['track']['album']['release_date']\n",
    "    collection['duration_ms'] = track['track']['duration_ms']\n",
    "\n",
    "    songs.append(collection)"
   ]
  },
  {
   "cell_type": "code",
   "execution_count": 83,
   "metadata": {},
   "outputs": [],
   "source": [
    "song_col = db['songs']\n",
    "song_details_col = db['song_details']\n",
    "singers_col = db['artists']"
   ]
  },
  {
   "cell_type": "code",
   "execution_count": null,
   "metadata": {},
   "outputs": [],
   "source": [
    "#Run Once\n",
    "#x = song_col.insert_many(songs)\n",
    "#y = song_details_col.insert_many(song_details)\n",
    "#z = singers_col.insert_many(singers)"
   ]
  },
  {
   "cell_type": "code",
   "execution_count": 88,
   "metadata": {},
   "outputs": [
    {
     "name": "stdout",
     "output_type": "stream",
     "text": [
      "{'_id': ObjectId('672caeedf4a77c73b31f4faf'), 'song_id': '2Fxmhks0bxGSBdJ92vM42m', 'song_name': 'bad guy', 'album_id': '0S0KGZnfBGSIssfF54WSJh', 'album_name': 'WHEN WE ALL FALL ASLEEP, WHERE DO WE GO?'}\n"
     ]
    }
   ],
   "source": [
    "query = {'song_name':'bad guy'}\n",
    "doc = song_details_col.find(query)\n",
    "for i in doc:\n",
    "    print(i)"
   ]
  },
  {
   "cell_type": "code",
   "execution_count": null,
   "metadata": {},
   "outputs": [],
   "source": []
  }
 ],
 "metadata": {
  "kernelspec": {
   "display_name": "Python 3",
   "language": "python",
   "name": "python3"
  },
  "language_info": {
   "codemirror_mode": {
    "name": "ipython",
    "version": 3
   },
   "file_extension": ".py",
   "mimetype": "text/x-python",
   "name": "python",
   "nbconvert_exporter": "python",
   "pygments_lexer": "ipython3",
   "version": "3.11.2"
  }
 },
 "nbformat": 4,
 "nbformat_minor": 2
}
